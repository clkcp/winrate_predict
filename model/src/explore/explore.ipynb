{
 "cells": [
  {
   "cell_type": "code",
   "execution_count": 43,
   "metadata": {
    "collapsed": true
   },
   "outputs": [],
   "source": [
    "import json\n",
    "import re\n",
    "import numpy as np\n",
    "import scipy as sp\n",
    "import sklearn\n",
    "import pickle"
   ]
  },
  {
   "cell_type": "code",
   "execution_count": 44,
   "metadata": {
    "collapsed": false
   },
   "outputs": [
    {
     "name": "stdout",
     "output_type": "stream",
     "text": [
      "20999\n"
     ]
    }
   ],
   "source": [
    "matchCount = 0\n",
    "matchList = []\n",
    "pattern = re.compile(r\"(\\d{8,10})\\s+({)\")\n",
    "with open(\"../../data/pro_matches.txt\") as f:\n",
    "    buf = \"\"\n",
    "    for oneline in f:\n",
    "        m = pattern.match(oneline)\n",
    "        if m:\n",
    "            matchCount += 1\n",
    "            if buf:\n",
    "                matchList.append(json.loads(buf))\n",
    "            buf = m.group(2)\n",
    "                \n",
    "        else:\n",
    "            buf += oneline\n",
    "if buf:\n",
    "    matchList.append(json.loads(buf))\n",
    "print matchCount"
   ]
  },
  {
   "cell_type": "code",
   "execution_count": 45,
   "metadata": {
    "collapsed": false
   },
   "outputs": [],
   "source": [
    "# get heros win-rate\n",
    "hero_wr = {}\n",
    "with open(\"../../data/heros.txt\") as f:\n",
    "    for line in f:\n",
    "        (hero_id,_,_,wr) = line.split()\n",
    "        hero_id = int(hero_id)\n",
    "        wr = float(wr.strip().rstrip(\"%\"))/100.0\n",
    "        hero_wr.update({hero_id:wr})\n",
    "        \n",
    "# get match up comb\n",
    "comb = np.zeros([120,120])\n",
    "anti = np.zeros([120,120])\n",
    "with open(\"../../data/match_up_comb.txt\") as f:\n",
    "    for line in f:\n",
    "        a, b, c = line.split()\n",
    "        a = int(a)\n",
    "        b = int(b)\n",
    "        c = float(c)\n",
    "        comb[a,b] = c\n",
    "# get match up anti\n",
    "with open(\"../../data/match_up_anti.txt\") as f:\n",
    "    for line in f:\n",
    "        a, b, c = line.split()\n",
    "        a = int(a)\n",
    "        b = int(b)\n",
    "        c = float(c)\n",
    "        anti[a,b] = c"
   ]
  },
  {
   "cell_type": "code",
   "execution_count": 83,
   "metadata": {
    "collapsed": true
   },
   "outputs": [],
   "source": [
    "def ca(a, b):\n",
    "    res = []\n",
    "    for i in a:\n",
    "        for j in a:\n",
    "            if not i == j:\n",
    "                res.append(comb[i,j])\n",
    "        for j in b:\n",
    "            res.append(anti[i,j])\n",
    "    res = np.array(res)\n",
    "    return res\n",
    "\n",
    "def json2feat(a):\n",
    "    teams = np.zeros([2,120], dtype=np.float)\n",
    "    wr = np.zeros([2,5], dtype=np.float)\n",
    "    playerCount = 0\n",
    "    hl = np.zeros([2,5], dtype=int)\n",
    "    cc = set()\n",
    "    try:\n",
    "        for player in a['result']['players']:\n",
    "            teams[playerCount / 5][player['hero_id']] = 1\n",
    "            #hero win rate\n",
    "            wr[playerCount/5][playerCount%5] = hero_wr[player['hero_id']]\n",
    "            hl[playerCount/5][playerCount%5] = player['hero_id']\n",
    "            cc.add(player['hero_id'])\n",
    "            playerCount += 1\n",
    "        if not len(cc) == 10:\n",
    "            return (False, False, False)\n",
    "    except:\n",
    "        return (False, False, False)\n",
    "            \n",
    "    p = np.zeros([2,45])\n",
    "    p[0] = ca(hl[0], hl[1])\n",
    "    p[1] = ca(hl[1], hl[0])\n",
    "    ret = np.hstack([teams, wr, p]).reshape([1,-1])\n",
    "    return (True, ret, np.array(a['result']['radiant_win']))"
   ]
  },
  {
   "cell_type": "code",
   "execution_count": 85,
   "metadata": {
    "collapsed": false
   },
   "outputs": [
    {
     "name": "stdout",
     "output_type": "stream",
     "text": [
      "(20626, 340)\n",
      "(20626,)\n"
     ]
    }
   ],
   "source": [
    "X = []\n",
    "y = []\n",
    "for match in matchList:\n",
    "    if \"error\" in match['result'].keys():\n",
    "        continue\n",
    "    st, feat, res = json2feat(match)\n",
    "    if not st:\n",
    "        continue\n",
    "    X.append(feat)\n",
    "    y.append(res)\n",
    "X = np.vstack(X)\n",
    "y = np.vstack(y).flatten()\n",
    "print X.shape\n",
    "print y.shape"
   ]
  },
  {
   "cell_type": "code",
   "execution_count": 86,
   "metadata": {
    "collapsed": false
   },
   "outputs": [],
   "source": [
    "feat = (X,y)\n",
    "pickle.dump(feat, open(\"../../data/feat\",\"w\"))"
   ]
  },
  {
   "cell_type": "code",
   "execution_count": null,
   "metadata": {
    "collapsed": true
   },
   "outputs": [],
   "source": []
  }
 ],
 "metadata": {
  "anaconda-cloud": {},
  "kernelspec": {
   "display_name": "Python [Root]",
   "language": "python",
   "name": "Python [Root]"
  },
  "language_info": {
   "codemirror_mode": {
    "name": "ipython",
    "version": 2
   },
   "file_extension": ".py",
   "mimetype": "text/x-python",
   "name": "python",
   "nbconvert_exporter": "python",
   "pygments_lexer": "ipython2",
   "version": "2.7.12"
  }
 },
 "nbformat": 4,
 "nbformat_minor": 0
}
