{
 "cells": [
  {
   "cell_type": "code",
   "execution_count": 1,
   "metadata": {
    "collapsed": true
   },
   "outputs": [],
   "source": [
    "import json\n",
    "import re\n",
    "import numpy as np\n",
    "import scipy as sp\n",
    "import sklearn\n",
    "import pickle"
   ]
  },
  {
   "cell_type": "code",
   "execution_count": 2,
   "metadata": {
    "collapsed": false
   },
   "outputs": [
    {
     "name": "stdout",
     "output_type": "stream",
     "text": [
      "20999\n"
     ]
    }
   ],
   "source": [
    "matchCount = 0\n",
    "matchList = []\n",
    "pattern = re.compile(r\"(\\d{8,10})\\s+({)\")\n",
    "with open(\"../../data/pro_matches.txt\") as f:\n",
    "    buf = \"\"\n",
    "    for oneline in f:\n",
    "        m = pattern.match(oneline)\n",
    "        if m:\n",
    "            matchCount += 1\n",
    "            if buf:\n",
    "                matchList.append(json.loads(buf))\n",
    "            buf = m.group(2)\n",
    "                \n",
    "        else:\n",
    "            buf += oneline\n",
    "if buf:\n",
    "    matchList.append(json.loads(buf))\n",
    "print matchCount"
   ]
  },
  {
   "cell_type": "code",
   "execution_count": 3,
   "metadata": {
    "collapsed": false
   },
   "outputs": [
    {
     "name": "stdout",
     "output_type": "stream",
     "text": [
      "20999\n",
      "[{u'denies': 21, u'xp_per_min': 654, u'account_id': 87278757, u'kills': 11, u'deaths': 5, u'level': 24, u'player_slot': 0, u'leaver_status': 0, u'item_4': 112, u'item_5': 81, u'item_2': 116, u'item_3': 194, u'item_0': 143, u'item_1': 48, u'last_hits': 298, u'gold_per_min': 629, u'assists': 17, u'hero_id': 77}, {u'denies': 1, u'xp_per_min': 422, u'account_id': 19672354, u'kills': 4, u'deaths': 8, u'level': 19, u'player_slot': 1, u'leaver_status': 0, u'item_4': 0, u'item_5': 102, u'item_2': 42, u'item_3': 46, u'item_0': 100, u'item_1': 214, u'last_hits': 111, u'gold_per_min': 318, u'assists': 17, u'hero_id': 103}, {u'denies': 8, u'xp_per_min': 613, u'account_id': 41231571, u'kills': 8, u'deaths': 7, u'level': 23, u'player_slot': 2, u'leaver_status': 0, u'item_4': 102, u'item_5': 119, u'item_2': 1, u'item_3': 63, u'item_0': 41, u'item_1': 100, u'last_hits': 142, u'gold_per_min': 406, u'assists': 21, u'hero_id': 16}, {u'denies': 16, u'xp_per_min': 431, u'account_id': 82262664, u'kills': 10, u'deaths': 9, u'level': 19, u'player_slot': 3, u'leaver_status': 0, u'item_4': 100, u'item_5': 37, u'item_2': 108, u'item_3': 206, u'item_0': 46, u'item_1': 29, u'last_hits': 75, u'gold_per_min': 346, u'assists': 17, u'hero_id': 101}, {u'denies': 1, u'xp_per_min': 548, u'account_id': 94155156, u'kills': 6, u'deaths': 5, u'level': 22, u'player_slot': 4, u'leaver_status': 0, u'item_4': 116, u'item_5': 102, u'item_2': 1, u'item_3': 110, u'item_0': 41, u'item_1': 48, u'last_hits': 207, u'gold_per_min': 431, u'assists': 17, u'hero_id': 65}, {u'denies': 20, u'xp_per_min': 469, u'account_id': 21265941, u'kills': 4, u'deaths': 9, u'level': 20, u'player_slot': 128, u'leaver_status': 0, u'item_4': 185, u'item_5': 41, u'item_2': 63, u'item_3': 116, u'item_0': 46, u'item_1': 75, u'last_hits': 111, u'gold_per_min': 341, u'assists': 20, u'hero_id': 20}, {u'denies': 7, u'xp_per_min': 677, u'account_id': 96169991, u'kills': 15, u'deaths': 7, u'level': 24, u'player_slot': 129, u'leaver_status': 0, u'item_4': 145, u'item_5': 212, u'item_2': 116, u'item_3': 46, u'item_0': 63, u'item_1': 208, u'last_hits': 202, u'gold_per_min': 525, u'assists': 9, u'hero_id': 44}, {u'denies': 6, u'xp_per_min': 474, u'account_id': 97590558, u'kills': 6, u'deaths': 9, u'level': 20, u'player_slot': 130, u'leaver_status': 0, u'item_4': 63, u'item_5': 127, u'item_2': 9, u'item_3': 116, u'item_0': 0, u'item_1': 1, u'last_hits': 133, u'gold_per_min': 384, u'assists': 12, u'hero_id': 104}, {u'denies': 3, u'xp_per_min': 415, u'account_id': 44513538, u'kills': 3, u'deaths': 7, u'level': 19, u'player_slot': 131, u'leaver_status': 0, u'item_4': 108, u'item_5': 46, u'item_2': 0, u'item_3': 41, u'item_0': 1, u'item_1': 29, u'last_hits': 60, u'gold_per_min': 269, u'assists': 16, u'hero_id': 30}, {u'denies': 2, u'xp_per_min': 537, u'account_id': 25907144, u'kills': 5, u'deaths': 11, u'level': 22, u'player_slot': 132, u'leaver_status': 0, u'item_4': 36, u'item_5': 0, u'item_2': 158, u'item_3': 178, u'item_0': 63, u'item_1': 127, u'last_hits': 100, u'gold_per_min': 375, u'assists': 11, u'hero_id': 42}]\n"
     ]
    }
   ],
   "source": [
    "print len(matchList)\n",
    "a = matchList[0]\n",
    "print a['result']['players']"
   ]
  },
  {
   "cell_type": "code",
   "execution_count": 71,
   "metadata": {
    "collapsed": true
   },
   "outputs": [],
   "source": [
    "def json2feat(a):\n",
    "    teams = np.zeros([2,120], dtype=np.float)\n",
    "    playerCount = 0\n",
    "    try:\n",
    "        for player in a['result']['players']:\n",
    "            teams[playerCount / 5][player['hero_id']] = 1\n",
    "            playerCount += 1\n",
    "    except:\n",
    "        print a\n",
    "    ret = teams.reshape([1,-1])\n",
    "    return (ret, np.array(a['result']['radiant_win']))"
   ]
  },
  {
   "cell_type": "code",
   "execution_count": 72,
   "metadata": {
    "collapsed": false
   },
   "outputs": [
    {
     "name": "stdout",
     "output_type": "stream",
     "text": [
      "(20998, 240)\n",
      "(20998, 1)\n"
     ]
    }
   ],
   "source": [
    "X = []\n",
    "y = []\n",
    "for match in matchList:\n",
    "    if \"error\" in match['result'].keys():\n",
    "        continue\n",
    "    feat, res = json2feat(match)\n",
    "    X.append(feat)\n",
    "    y.append(res)\n",
    "X = np.vstack(X)\n",
    "y = np.vstack(y)\n",
    "print X.shape\n",
    "print y.shape"
   ]
  },
  {
   "cell_type": "code",
   "execution_count": 73,
   "metadata": {
    "collapsed": false
   },
   "outputs": [],
   "source": [
    "feat = (X,y)\n",
    "pickle.dump(feat, open(\"../../data/feat\",\"w\"))"
   ]
  },
  {
   "cell_type": "code",
   "execution_count": null,
   "metadata": {
    "collapsed": true
   },
   "outputs": [],
   "source": []
  }
 ],
 "metadata": {
  "anaconda-cloud": {},
  "kernelspec": {
   "display_name": "Python [Root]",
   "language": "python",
   "name": "Python [Root]"
  },
  "language_info": {
   "codemirror_mode": {
    "name": "ipython",
    "version": 2
   },
   "file_extension": ".py",
   "mimetype": "text/x-python",
   "name": "python",
   "nbconvert_exporter": "python",
   "pygments_lexer": "ipython2",
   "version": "2.7.12"
  }
 },
 "nbformat": 4,
 "nbformat_minor": 0
}
